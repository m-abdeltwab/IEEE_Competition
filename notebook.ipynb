{
 "cells": [
  {
   "cell_type": "markdown",
   "metadata": {},
   "source": [
    "# overview\n",
    "\n",
    "### Description\n",
    "\n",
    "Welcome to the **Regression** Challenge: \n",
    "- **Predicting Market Costs** This competition tasks you with building advanced **regression models** to accurately predict the **costs of products within a diverse market landscape**. \n",
    "- Leveraging a comprehensive dataset, including factors ranging from market dynamics to consumer attributes, your goal is to **develop models that uncover hidden patterns in the data to provide precise cost predictions**.\n",
    "\n",
    "#### NOTE THAT :\n",
    "Given the varied sources of data, participants will need to proficiently merge training dataframes to create comprehensive models capable of predicting costs.\n",
    "\n",
    "---\n",
    "\n",
    "### Evaluation\n",
    "\n",
    "#### Evaluation Metric : \n",
    "The evaluation metric for this competition is the **Root Mean Squared Error (RMSE)**.\n",
    "\n",
    "#### Submission Format :\n",
    "Teams should submit a **CSV file with exactly 19942 rows with 2 columns**, submission will return an Invalid Score if you have extra rows or columns.\n",
    "\n",
    "---\n",
    "\n",
    "#### Notes :\n",
    "- The public leaderboard is evaluated on 75% of Test data.\n",
    "- Do not shuffle the sequence of the test series"
   ]
  },
  {
   "cell_type": "markdown",
   "metadata": {},
   "source": [
    "## Data\n",
    "\n",
    "### Files and Folders\n",
    "- `IEEE_Victoris2_Filtration_train_data` - folder containing the training set\n",
    "- `test.csv` - the test set\n",
    "- `sample_submission.csv` - a sample submission file in the correct format\n",
    "\n",
    "**Please be aware that this dataset is composed of numerous files, which could result in minor variations in certain column names or even the internal structure of the data.**\n",
    "\n",
    "---\n",
    "\n",
    "### Features in test data\n",
    "- `Person Description` - Description of the person visiting the market\n",
    "- `Place Code` - Code for each place which consists of 2 city codes parts separated by \"_\"\n",
    "- `Customer Order` - Order of each customer in the market\n",
    "- `Additional Features in market` - A list of features that are found in the market\n",
    "- `Promotion Name` - Made by the market on media\n",
    "- `Store Kind` - A genre for the store\n",
    "- `Store Cost` - Cost of the Store\n",
    "- `Gross Weight` - Bought item weight\n",
    "- `Net Weight`- Bought item weight without the package\n",
    "- `Package Weight` - Weight of the Package\n",
    "- `Is Recyclable?` - If the item is Recyclable or no\n",
    "- `Yearly Income` - min. Income for the consumer per year\n",
    "- `Store Area` - Area of the store\n",
    "- `Grocery Area` - Area of grocery department in the store\n",
    "- `Frozen Area` - Area of frozen food department in the store\n",
    "- `Meat Area` - Area of Meat department in the store\n",
    "- `Cost` - The target variable"
   ]
  },
  {
   "cell_type": "markdown",
   "metadata": {},
   "source": [
    "# Import libraries"
   ]
  },
  {
   "cell_type": "code",
   "execution_count": 525,
   "metadata": {},
   "outputs": [],
   "source": [
    "import numpy as np\n",
    "import pandas as pd"
   ]
  },
  {
   "cell_type": "markdown",
   "metadata": {},
   "source": [
    "# Load Dataset"
   ]
  },
  {
   "cell_type": "code",
   "execution_count": 526,
   "metadata": {},
   "outputs": [],
   "source": [
    "train_1 = pd.read_csv(\"./data/IEEE_Victoris2_Filtration_train_data/Train_Batch_1.csv\")\n",
    "train_2 = pd.read_csv(\"./data/IEEE_Victoris2_Filtration_train_data/Train_Batch_2.csv\")\n",
    "train_3 = pd.read_csv(\"./data/IEEE_Victoris2_Filtration_train_data/Train_Batch_3.csv\")\n",
    "test = pd.read_csv(\"./data/test.csv\")"
   ]
  },
  {
   "cell_type": "markdown",
   "metadata": {},
   "source": [
    "## Train-1"
   ]
  },
  {
   "cell_type": "code",
   "execution_count": 527,
   "metadata": {},
   "outputs": [],
   "source": [
    "Gross_Weight = []\n",
    "Net_Weight = []\n",
    "Package_Weight = []\n",
    "for row in train_1[\"Product Weights Data in (KG)\"]:\n",
    "    Gross_Weight.append(row.split(\",\")[0].split(\":\")[1])\n",
    "    Net_Weight.append(row.split(\",\")[1].split(\":\")[1])"
   ]
  },
  {
   "cell_type": "code",
   "execution_count": 528,
   "metadata": {},
   "outputs": [],
   "source": [
    "product_weight = pd.DataFrame({\"Gross Weight\": Gross_Weight, \"Net Weight\": Net_Weight})"
   ]
  },
  {
   "cell_type": "code",
   "execution_count": 529,
   "metadata": {},
   "outputs": [],
   "source": [
    "train_1 = pd.concat([train_1, product_weight], axis=1)\n",
    "train_1.drop(\"Product Weights Data in (KG)\", axis=1, inplace=True)"
   ]
  },
  {
   "cell_type": "code",
   "execution_count": 530,
   "metadata": {},
   "outputs": [],
   "source": [
    "train_1.rename(columns={\"Min. Yearly Income\": \"Yearly Income\"}, inplace=True)"
   ]
  },
  {
   "cell_type": "code",
   "execution_count": 531,
   "metadata": {},
   "outputs": [
    {
     "data": {
      "text/html": [
       "<div>\n",
       "<style scoped>\n",
       "    .dataframe tbody tr th:only-of-type {\n",
       "        vertical-align: middle;\n",
       "    }\n",
       "\n",
       "    .dataframe tbody tr th {\n",
       "        vertical-align: top;\n",
       "    }\n",
       "\n",
       "    .dataframe thead th {\n",
       "        text-align: right;\n",
       "    }\n",
       "</style>\n",
       "<table border=\"1\" class=\"dataframe\">\n",
       "  <thead>\n",
       "    <tr style=\"text-align: right;\">\n",
       "      <th></th>\n",
       "      <th>Unnamed: 0</th>\n",
       "      <th>Person Description</th>\n",
       "      <th>Place Code</th>\n",
       "      <th>Customer Order</th>\n",
       "      <th>Additional Features in market</th>\n",
       "      <th>Promotion Name</th>\n",
       "      <th>Store Kind</th>\n",
       "      <th>Store Sales</th>\n",
       "      <th>Store Cost</th>\n",
       "      <th>Is Recyclable?</th>\n",
       "      <th>Yearly Income</th>\n",
       "      <th>Store Area</th>\n",
       "      <th>Grocery Area</th>\n",
       "      <th>Frozen Area</th>\n",
       "      <th>Meat Area</th>\n",
       "      <th>Cost</th>\n",
       "      <th>Gross Weight</th>\n",
       "      <th>Net Weight</th>\n",
       "    </tr>\n",
       "  </thead>\n",
       "  <tbody>\n",
       "    <tr>\n",
       "      <th>0</th>\n",
       "      <td>mc_ID_0</td>\n",
       "      <td>Single Female with four children, education: b...</td>\n",
       "      <td>H11go_ZA</td>\n",
       "      <td>Cleaning Supplies from Household department, O...</td>\n",
       "      <td>['Video Store', 'Florist', 'Ready Food', 'Coff...</td>\n",
       "      <td>Dimes Off</td>\n",
       "      <td>Deluxe</td>\n",
       "      <td>8.76 Millions</td>\n",
       "      <td>4.2924 Millions</td>\n",
       "      <td>recyclable</td>\n",
       "      <td>10K+</td>\n",
       "      <td>2842.23</td>\n",
       "      <td>2037.64</td>\n",
       "      <td>481.98</td>\n",
       "      <td>323</td>\n",
       "      <td>602.7575</td>\n",
       "      <td>28.1997</td>\n",
       "      <td>26.6008</td>\n",
       "    </tr>\n",
       "    <tr>\n",
       "      <th>1</th>\n",
       "      <td>mc_ID_1</td>\n",
       "      <td>Single Female with three children, education: ...</td>\n",
       "      <td>S04ne_WA</td>\n",
       "      <td>Snack Foods from Snack Foods department, Order...</td>\n",
       "      <td>NaN</td>\n",
       "      <td>Budget Bargains</td>\n",
       "      <td>Supermarket</td>\n",
       "      <td>6.36 Millions</td>\n",
       "      <td>1.9716 Millions</td>\n",
       "      <td>non recyclable</td>\n",
       "      <td>50K+</td>\n",
       "      <td>2814.95</td>\n",
       "      <td>2049.72</td>\n",
       "      <td>457.36</td>\n",
       "      <td>NaN</td>\n",
       "      <td>708.6650</td>\n",
       "      <td>16.571</td>\n",
       "      <td>14.972</td>\n",
       "    </tr>\n",
       "  </tbody>\n",
       "</table>\n",
       "</div>"
      ],
      "text/plain": [
       "  Unnamed: 0                                 Person Description Place Code  \\\n",
       "0    mc_ID_0  Single Female with four children, education: b...   H11go_ZA   \n",
       "1    mc_ID_1  Single Female with three children, education: ...   S04ne_WA   \n",
       "\n",
       "                                      Customer Order  \\\n",
       "0  Cleaning Supplies from Household department, O...   \n",
       "1  Snack Foods from Snack Foods department, Order...   \n",
       "\n",
       "                       Additional Features in market   Promotion Name  \\\n",
       "0  ['Video Store', 'Florist', 'Ready Food', 'Coff...        Dimes Off   \n",
       "1                                                NaN  Budget Bargains   \n",
       "\n",
       "    Store Kind    Store Sales       Store Cost  Is Recyclable? Yearly Income  \\\n",
       "0       Deluxe  8.76 Millions  4.2924 Millions      recyclable          10K+   \n",
       "1  Supermarket  6.36 Millions  1.9716 Millions  non recyclable          50K+   \n",
       "\n",
       "  Store Area Grocery Area  Frozen Area Meat Area      Cost Gross Weight  \\\n",
       "0    2842.23      2037.64       481.98       323  602.7575      28.1997   \n",
       "1    2814.95      2049.72       457.36       NaN  708.6650       16.571   \n",
       "\n",
       "  Net Weight  \n",
       "0    26.6008  \n",
       "1     14.972  "
      ]
     },
     "execution_count": 531,
     "metadata": {},
     "output_type": "execute_result"
    }
   ],
   "source": [
    "train_1.head(2)"
   ]
  },
  {
   "cell_type": "markdown",
   "metadata": {},
   "source": [
    "## Train-2"
   ]
  },
  {
   "cell_type": "code",
   "execution_count": 532,
   "metadata": {},
   "outputs": [],
   "source": [
    "train_2.rename(columns={\"Min. Person Yearly Income\": \"Yearly Income\"}, inplace=True)"
   ]
  },
  {
   "cell_type": "markdown",
   "metadata": {},
   "source": [
    "## Train-3"
   ]
  },
  {
   "cell_type": "code",
   "execution_count": 533,
   "metadata": {},
   "outputs": [],
   "source": [
    "new_cols = {col: col.replace(\"%20\", \" \") for col in train_3.columns}\n",
    "train_3.rename(columns=new_cols, inplace=True)"
   ]
  },
  {
   "cell_type": "code",
   "execution_count": 534,
   "metadata": {},
   "outputs": [],
   "source": [
    "train_3.drop(\"Weights Data\", axis=1, inplace=True)"
   ]
  },
  {
   "cell_type": "code",
   "execution_count": 535,
   "metadata": {},
   "outputs": [
    {
     "data": {
      "text/html": [
       "<div>\n",
       "<style scoped>\n",
       "    .dataframe tbody tr th:only-of-type {\n",
       "        vertical-align: middle;\n",
       "    }\n",
       "\n",
       "    .dataframe tbody tr th {\n",
       "        vertical-align: top;\n",
       "    }\n",
       "\n",
       "    .dataframe thead th {\n",
       "        text-align: right;\n",
       "    }\n",
       "</style>\n",
       "<table border=\"1\" class=\"dataframe\">\n",
       "  <thead>\n",
       "    <tr style=\"text-align: right;\">\n",
       "      <th></th>\n",
       "      <th>Unnamed: 0</th>\n",
       "      <th>Person Description</th>\n",
       "      <th>Place Code</th>\n",
       "      <th>Customer Order</th>\n",
       "      <th>Additional Features in market</th>\n",
       "      <th>Promotion Name</th>\n",
       "      <th>Store Kind</th>\n",
       "      <th>Store Sales</th>\n",
       "      <th>Store Cost</th>\n",
       "      <th>Gross Weight</th>\n",
       "      <th>Net Weight</th>\n",
       "      <th>Is Recyclable?</th>\n",
       "      <th>Yearly Income</th>\n",
       "      <th>Store Area</th>\n",
       "      <th>Grocery Area</th>\n",
       "      <th>Frozen Area</th>\n",
       "      <th>Meat Area</th>\n",
       "      <th>Cost</th>\n",
       "    </tr>\n",
       "  </thead>\n",
       "  <tbody>\n",
       "    <tr>\n",
       "      <th>0</th>\n",
       "      <td>mc_ID_0</td>\n",
       "      <td>Single Female with two children, education: pa...</td>\n",
       "      <td>T02ma_WA</td>\n",
       "      <td>Meat from Deli department, Ordered Brand : Red...</td>\n",
       "      <td>['Coffee Bar', 'Florist', 'Ready Food', 'Bar F...</td>\n",
       "      <td>Sale : Double Down</td>\n",
       "      <td>Deluxe</td>\n",
       "      <td>7.12 Millions</td>\n",
       "      <td>2.5632 Millions</td>\n",
       "      <td>23.2575</td>\n",
       "      <td>20.3503</td>\n",
       "      <td>yes</td>\n",
       "      <td>90K+</td>\n",
       "      <td>3145.51</td>\n",
       "      <td>2056.79</td>\n",
       "      <td>654.13</td>\n",
       "      <td>436.09</td>\n",
       "      <td>500.7202</td>\n",
       "    </tr>\n",
       "    <tr>\n",
       "      <th>1</th>\n",
       "      <td>mc_ID_1</td>\n",
       "      <td>Single Female with five children, education: p...</td>\n",
       "      <td>M10da_YU</td>\n",
       "      <td>Specialty from Produce department, Ordered Bra...</td>\n",
       "      <td>['Coffee Bar', 'Florist', 'Bar For Salad', 'Vi...</td>\n",
       "      <td>GLD</td>\n",
       "      <td>Deluxe</td>\n",
       "      <td>14.72 Millions</td>\n",
       "      <td>7.0656 Millions</td>\n",
       "      <td>16.7163</td>\n",
       "      <td>12.3555</td>\n",
       "      <td>yes</td>\n",
       "      <td>30K+</td>\n",
       "      <td>2856.68</td>\n",
       "      <td>1871.16</td>\n",
       "      <td>595.93</td>\n",
       "      <td>395.51</td>\n",
       "      <td>484.1411</td>\n",
       "    </tr>\n",
       "  </tbody>\n",
       "</table>\n",
       "</div>"
      ],
      "text/plain": [
       "  Unnamed: 0                                 Person Description Place Code  \\\n",
       "0    mc_ID_0  Single Female with two children, education: pa...   T02ma_WA   \n",
       "1    mc_ID_1  Single Female with five children, education: p...   M10da_YU   \n",
       "\n",
       "                                      Customer Order  \\\n",
       "0  Meat from Deli department, Ordered Brand : Red...   \n",
       "1  Specialty from Produce department, Ordered Bra...   \n",
       "\n",
       "                       Additional Features in market      Promotion Name  \\\n",
       "0  ['Coffee Bar', 'Florist', 'Ready Food', 'Bar F...  Sale : Double Down   \n",
       "1  ['Coffee Bar', 'Florist', 'Bar For Salad', 'Vi...                 GLD   \n",
       "\n",
       "  Store Kind     Store Sales       Store Cost  Gross Weight  Net Weight  \\\n",
       "0     Deluxe   7.12 Millions  2.5632 Millions       23.2575     20.3503   \n",
       "1     Deluxe  14.72 Millions  7.0656 Millions       16.7163     12.3555   \n",
       "\n",
       "  Is Recyclable? Yearly Income  Store Area  Grocery Area  Frozen Area  \\\n",
       "0            yes          90K+     3145.51       2056.79       654.13   \n",
       "1            yes          30K+     2856.68       1871.16       595.93   \n",
       "\n",
       "   Meat Area      Cost  \n",
       "0     436.09  500.7202  \n",
       "1     395.51  484.1411  "
      ]
     },
     "execution_count": 535,
     "metadata": {},
     "output_type": "execute_result"
    }
   ],
   "source": [
    "train_3.head(2)"
   ]
  },
  {
   "cell_type": "code",
   "execution_count": 536,
   "metadata": {},
   "outputs": [],
   "source": [
    "train = pd.concat([train_1, train_2, train_3])"
   ]
  }
 ],
 "metadata": {
  "kernelspec": {
   "display_name": "base",
   "language": "python",
   "name": "python3"
  },
  "language_info": {
   "codemirror_mode": {
    "name": "ipython",
    "version": 3
   },
   "file_extension": ".py",
   "mimetype": "text/x-python",
   "name": "python",
   "nbconvert_exporter": "python",
   "pygments_lexer": "ipython3",
   "version": "3.11.4"
  },
  "orig_nbformat": 4
 },
 "nbformat": 4,
 "nbformat_minor": 2
}
