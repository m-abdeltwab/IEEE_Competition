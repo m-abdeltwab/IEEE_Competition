{
 "cells": [
  {
   "cell_type": "markdown",
   "metadata": {},
   "source": [
    "# Import libraries"
   ]
  },
  {
   "cell_type": "code",
   "execution_count": 5,
   "metadata": {},
   "outputs": [],
   "source": [
    "import numpy as np\n",
    "import pandas as pd"
   ]
  },
  {
   "cell_type": "markdown",
   "metadata": {},
   "source": [
    "# Data"
   ]
  },
  {
   "cell_type": "code",
   "execution_count": 6,
   "metadata": {},
   "outputs": [],
   "source": [
    "train_1 = pd.read_csv(\"./data/IEEE_Victoris2_Filtration_train_data/Train_Batch_1.csv\")\n",
    "train_2 = pd.read_csv(\"./data/IEEE_Victoris2_Filtration_train_data/Train_Batch_2.csv\")\n",
    "train_3 = pd.read_csv(\"./data/IEEE_Victoris2_Filtration_train_data/Train_Batch_3.csv\")\n",
    "test = pd.read_csv(\"./data/test.csv\")"
   ]
  },
  {
   "cell_type": "code",
   "execution_count": 7,
   "metadata": {},
   "outputs": [
    {
     "data": {
      "text/html": [
       "<div>\n",
       "<style scoped>\n",
       "    .dataframe tbody tr th:only-of-type {\n",
       "        vertical-align: middle;\n",
       "    }\n",
       "\n",
       "    .dataframe tbody tr th {\n",
       "        vertical-align: top;\n",
       "    }\n",
       "\n",
       "    .dataframe thead th {\n",
       "        text-align: right;\n",
       "    }\n",
       "</style>\n",
       "<table border=\"1\" class=\"dataframe\">\n",
       "  <thead>\n",
       "    <tr style=\"text-align: right;\">\n",
       "      <th></th>\n",
       "      <th>Unnamed: 0</th>\n",
       "      <th>Person Description</th>\n",
       "      <th>Place Code</th>\n",
       "      <th>Customer Order</th>\n",
       "      <th>Additional Features in market</th>\n",
       "      <th>Promotion Name</th>\n",
       "      <th>Store Kind</th>\n",
       "      <th>Store Sales</th>\n",
       "      <th>Store Cost</th>\n",
       "      <th>Product Weights Data in (KG)</th>\n",
       "      <th>Is Recyclable?</th>\n",
       "      <th>Min. Yearly Income</th>\n",
       "      <th>Store Area</th>\n",
       "      <th>Grocery Area</th>\n",
       "      <th>Frozen Area</th>\n",
       "      <th>Meat Area</th>\n",
       "      <th>Cost</th>\n",
       "    </tr>\n",
       "  </thead>\n",
       "  <tbody>\n",
       "    <tr>\n",
       "      <th>0</th>\n",
       "      <td>mc_ID_0</td>\n",
       "      <td>Single Female with four children, education: b...</td>\n",
       "      <td>H11go_ZA</td>\n",
       "      <td>Cleaning Supplies from Household department, O...</td>\n",
       "      <td>['Video Store', 'Florist', 'Ready Food', 'Coff...</td>\n",
       "      <td>Dimes Off</td>\n",
       "      <td>Deluxe</td>\n",
       "      <td>8.76 Millions</td>\n",
       "      <td>4.2924 Millions</td>\n",
       "      <td>{'Gross Weight': 28.1997, 'Net Weight': 26.600...</td>\n",
       "      <td>recyclable</td>\n",
       "      <td>10K+</td>\n",
       "      <td>2842.23</td>\n",
       "      <td>2037.64</td>\n",
       "      <td>481.98</td>\n",
       "      <td>323</td>\n",
       "      <td>602.7575</td>\n",
       "    </tr>\n",
       "  </tbody>\n",
       "</table>\n",
       "</div>"
      ],
      "text/plain": [
       "  Unnamed: 0                                 Person Description Place Code  \\\n",
       "0    mc_ID_0  Single Female with four children, education: b...   H11go_ZA   \n",
       "\n",
       "                                      Customer Order  \\\n",
       "0  Cleaning Supplies from Household department, O...   \n",
       "\n",
       "                       Additional Features in market Promotion Name  \\\n",
       "0  ['Video Store', 'Florist', 'Ready Food', 'Coff...      Dimes Off   \n",
       "\n",
       "  Store Kind    Store Sales       Store Cost  \\\n",
       "0     Deluxe  8.76 Millions  4.2924 Millions   \n",
       "\n",
       "                        Product Weights Data in (KG) Is Recyclable?  \\\n",
       "0  {'Gross Weight': 28.1997, 'Net Weight': 26.600...     recyclable   \n",
       "\n",
       "  Min. Yearly Income Store Area Grocery Area  Frozen Area Meat Area      Cost  \n",
       "0               10K+    2842.23      2037.64       481.98       323  602.7575  "
      ]
     },
     "execution_count": 7,
     "metadata": {},
     "output_type": "execute_result"
    }
   ],
   "source": [
    "train_1.head(1)"
   ]
  },
  {
   "cell_type": "code",
   "execution_count": 8,
   "metadata": {},
   "outputs": [
    {
     "data": {
      "text/plain": [
       "\"{'Gross Weight': 28.1997, 'Net Weight': 26.6008, 'Package Weight': 1.599}\""
      ]
     },
     "execution_count": 8,
     "metadata": {},
     "output_type": "execute_result"
    }
   ],
   "source": [
    "train_1[\"Product Weights Data in (KG)\"][0]"
   ]
  },
  {
   "cell_type": "code",
   "execution_count": 9,
   "metadata": {},
   "outputs": [
    {
     "data": {
      "text/html": [
       "<div>\n",
       "<style scoped>\n",
       "    .dataframe tbody tr th:only-of-type {\n",
       "        vertical-align: middle;\n",
       "    }\n",
       "\n",
       "    .dataframe tbody tr th {\n",
       "        vertical-align: top;\n",
       "    }\n",
       "\n",
       "    .dataframe thead th {\n",
       "        text-align: right;\n",
       "    }\n",
       "</style>\n",
       "<table border=\"1\" class=\"dataframe\">\n",
       "  <thead>\n",
       "    <tr style=\"text-align: right;\">\n",
       "      <th></th>\n",
       "      <th>Unnamed: 0</th>\n",
       "      <th>Person Description</th>\n",
       "      <th>Place Code</th>\n",
       "      <th>Customer Order</th>\n",
       "      <th>Additional Features in market</th>\n",
       "      <th>Promotion Name</th>\n",
       "      <th>Store Kind</th>\n",
       "      <th>Store Sales</th>\n",
       "      <th>Store Cost</th>\n",
       "      <th>Gross Weight</th>\n",
       "      <th>Net Weight</th>\n",
       "      <th>Is Recyclable?</th>\n",
       "      <th>Min. Person Yearly Income</th>\n",
       "      <th>Store Area</th>\n",
       "      <th>Grocery Area</th>\n",
       "      <th>Frozen Area</th>\n",
       "      <th>Meat Area</th>\n",
       "      <th>Cost</th>\n",
       "    </tr>\n",
       "  </thead>\n",
       "  <tbody>\n",
       "    <tr>\n",
       "      <th>0</th>\n",
       "      <td>mc_ID_0</td>\n",
       "      <td>Single Male with two children, education: high...</td>\n",
       "      <td>S01em_OR</td>\n",
       "      <td>Baking Goods from Baking Goods department, Ord...</td>\n",
       "      <td>['Video Store', 'Florist', 'Ready Food', 'Bar ...</td>\n",
       "      <td>Tip Top Savings</td>\n",
       "      <td>Deluxe</td>\n",
       "      <td>3.28 M</td>\n",
       "      <td>0.984 M</td>\n",
       "      <td>21.9493</td>\n",
       "      <td>19.0421</td>\n",
       "      <td>yes</td>\n",
       "      <td>30K+</td>\n",
       "      <td>2577.5</td>\n",
       "      <td>1734.5</td>\n",
       "      <td>503.07</td>\n",
       "      <td>335.38</td>\n",
       "      <td>287.127</td>\n",
       "    </tr>\n",
       "  </tbody>\n",
       "</table>\n",
       "</div>"
      ],
      "text/plain": [
       "  Unnamed: 0                                 Person Description Place Code  \\\n",
       "0    mc_ID_0  Single Male with two children, education: high...   S01em_OR   \n",
       "\n",
       "                                      Customer Order  \\\n",
       "0  Baking Goods from Baking Goods department, Ord...   \n",
       "\n",
       "                       Additional Features in market   Promotion Name  \\\n",
       "0  ['Video Store', 'Florist', 'Ready Food', 'Bar ...  Tip Top Savings   \n",
       "\n",
       "  Store Kind Store Sales Store Cost  Gross Weight  Net Weight Is Recyclable?  \\\n",
       "0     Deluxe      3.28 M    0.984 M       21.9493     19.0421            yes   \n",
       "\n",
       "  Min. Person Yearly Income  Store Area  Grocery Area Frozen Area  Meat Area  \\\n",
       "0                      30K+      2577.5        1734.5      503.07     335.38   \n",
       "\n",
       "      Cost  \n",
       "0  287.127  "
      ]
     },
     "execution_count": 9,
     "metadata": {},
     "output_type": "execute_result"
    }
   ],
   "source": [
    "train_2.head(1)"
   ]
  },
  {
   "cell_type": "code",
   "execution_count": 10,
   "metadata": {},
   "outputs": [
    {
     "data": {
      "text/html": [
       "<div>\n",
       "<style scoped>\n",
       "    .dataframe tbody tr th:only-of-type {\n",
       "        vertical-align: middle;\n",
       "    }\n",
       "\n",
       "    .dataframe tbody tr th {\n",
       "        vertical-align: top;\n",
       "    }\n",
       "\n",
       "    .dataframe thead th {\n",
       "        text-align: right;\n",
       "    }\n",
       "</style>\n",
       "<table border=\"1\" class=\"dataframe\">\n",
       "  <thead>\n",
       "    <tr style=\"text-align: right;\">\n",
       "      <th></th>\n",
       "      <th>Unnamed: 0</th>\n",
       "      <th>Person%20Description</th>\n",
       "      <th>Place%20Code</th>\n",
       "      <th>Customer%20Order</th>\n",
       "      <th>Additional%20Features%20in%20market</th>\n",
       "      <th>Promotion%20Name</th>\n",
       "      <th>Store%20Kind</th>\n",
       "      <th>Store%20Sales</th>\n",
       "      <th>Store%20Cost</th>\n",
       "      <th>Gross%20Weight</th>\n",
       "      <th>Net%20Weight</th>\n",
       "      <th>Weights%20Data</th>\n",
       "      <th>Is%20Recyclable?</th>\n",
       "      <th>Yearly%20Income</th>\n",
       "      <th>Store%20Area</th>\n",
       "      <th>Grocery%20Area</th>\n",
       "      <th>Frozen%20Area</th>\n",
       "      <th>Meat%20Area</th>\n",
       "      <th>Cost</th>\n",
       "    </tr>\n",
       "  </thead>\n",
       "  <tbody>\n",
       "    <tr>\n",
       "      <th>0</th>\n",
       "      <td>mc_ID_0</td>\n",
       "      <td>Single Female with two children, education: pa...</td>\n",
       "      <td>T02ma_WA</td>\n",
       "      <td>Meat from Deli department, Ordered Brand : Red...</td>\n",
       "      <td>['Coffee Bar', 'Florist', 'Ready Food', 'Bar F...</td>\n",
       "      <td>Sale : Double Down</td>\n",
       "      <td>Deluxe</td>\n",
       "      <td>7.12 Millions</td>\n",
       "      <td>2.5632 Millions</td>\n",
       "      <td>23.2575</td>\n",
       "      <td>20.3503</td>\n",
       "      <td>{'Gross Weight': 23.2575, 'Net Weight': 20.350...</td>\n",
       "      <td>yes</td>\n",
       "      <td>90K+</td>\n",
       "      <td>3145.51</td>\n",
       "      <td>2056.79</td>\n",
       "      <td>654.13</td>\n",
       "      <td>436.09</td>\n",
       "      <td>500.7202</td>\n",
       "    </tr>\n",
       "  </tbody>\n",
       "</table>\n",
       "</div>"
      ],
      "text/plain": [
       "  Unnamed: 0                               Person%20Description Place%20Code  \\\n",
       "0    mc_ID_0  Single Female with two children, education: pa...     T02ma_WA   \n",
       "\n",
       "                                    Customer%20Order  \\\n",
       "0  Meat from Deli department, Ordered Brand : Red...   \n",
       "\n",
       "                 Additional%20Features%20in%20market    Promotion%20Name  \\\n",
       "0  ['Coffee Bar', 'Florist', 'Ready Food', 'Bar F...  Sale : Double Down   \n",
       "\n",
       "  Store%20Kind  Store%20Sales     Store%20Cost  Gross%20Weight  Net%20Weight  \\\n",
       "0       Deluxe  7.12 Millions  2.5632 Millions         23.2575       20.3503   \n",
       "\n",
       "                                      Weights%20Data Is%20Recyclable?  \\\n",
       "0  {'Gross Weight': 23.2575, 'Net Weight': 20.350...              yes   \n",
       "\n",
       "  Yearly%20Income  Store%20Area  Grocery%20Area  Frozen%20Area  Meat%20Area  \\\n",
       "0            90K+       3145.51         2056.79         654.13       436.09   \n",
       "\n",
       "       Cost  \n",
       "0  500.7202  "
      ]
     },
     "execution_count": 10,
     "metadata": {},
     "output_type": "execute_result"
    }
   ],
   "source": [
    "train_3.head(1)"
   ]
  },
  {
   "cell_type": "markdown",
   "metadata": {},
   "source": [
    "## Train_1"
   ]
  },
  {
   "cell_type": "code",
   "execution_count": 11,
   "metadata": {},
   "outputs": [],
   "source": [
    "def product_weight():\n",
    "    Gross_Weight = []\n",
    "    Net_Weight = []\n",
    "\n",
    "    for row in train_1[\"Product Weights Data in (KG)\"]:\n",
    "        Gross_Weight.append(row.split(\",\")[0].split(\":\")[1])\n",
    "        Net_Weight.append(row.split(\",\")[1].split(\":\")[1])\n",
    "\n",
    "    product_weight = pd.DataFrame(\n",
    "        {\"Gross Weight\": Gross_Weight, \"Net Weight\": Net_Weight}\n",
    "    )\n",
    "    return product_weight"
   ]
  },
  {
   "cell_type": "code",
   "execution_count": 12,
   "metadata": {},
   "outputs": [],
   "source": [
    "train_1 = pd.concat([train_1, product_weight()], axis=1)\n",
    "train_1.drop(\"Product Weights Data in (KG)\", axis=1, inplace=True)"
   ]
  },
  {
   "cell_type": "code",
   "execution_count": 13,
   "metadata": {},
   "outputs": [],
   "source": [
    "train_1.rename(columns={\"Min. Yearly Income\": \"Yearly Income\"}, inplace=True)"
   ]
  },
  {
   "cell_type": "code",
   "execution_count": 14,
   "metadata": {},
   "outputs": [
    {
     "data": {
      "text/html": [
       "<div>\n",
       "<style scoped>\n",
       "    .dataframe tbody tr th:only-of-type {\n",
       "        vertical-align: middle;\n",
       "    }\n",
       "\n",
       "    .dataframe tbody tr th {\n",
       "        vertical-align: top;\n",
       "    }\n",
       "\n",
       "    .dataframe thead th {\n",
       "        text-align: right;\n",
       "    }\n",
       "</style>\n",
       "<table border=\"1\" class=\"dataframe\">\n",
       "  <thead>\n",
       "    <tr style=\"text-align: right;\">\n",
       "      <th></th>\n",
       "      <th>Unnamed: 0</th>\n",
       "      <th>Person Description</th>\n",
       "      <th>Place Code</th>\n",
       "      <th>Customer Order</th>\n",
       "      <th>Additional Features in market</th>\n",
       "      <th>Promotion Name</th>\n",
       "      <th>Store Kind</th>\n",
       "      <th>Store Sales</th>\n",
       "      <th>Store Cost</th>\n",
       "      <th>Is Recyclable?</th>\n",
       "      <th>Yearly Income</th>\n",
       "      <th>Store Area</th>\n",
       "      <th>Grocery Area</th>\n",
       "      <th>Frozen Area</th>\n",
       "      <th>Meat Area</th>\n",
       "      <th>Cost</th>\n",
       "      <th>Gross Weight</th>\n",
       "      <th>Net Weight</th>\n",
       "    </tr>\n",
       "  </thead>\n",
       "  <tbody>\n",
       "    <tr>\n",
       "      <th>0</th>\n",
       "      <td>mc_ID_0</td>\n",
       "      <td>Single Female with four children, education: b...</td>\n",
       "      <td>H11go_ZA</td>\n",
       "      <td>Cleaning Supplies from Household department, O...</td>\n",
       "      <td>['Video Store', 'Florist', 'Ready Food', 'Coff...</td>\n",
       "      <td>Dimes Off</td>\n",
       "      <td>Deluxe</td>\n",
       "      <td>8.76 Millions</td>\n",
       "      <td>4.2924 Millions</td>\n",
       "      <td>recyclable</td>\n",
       "      <td>10K+</td>\n",
       "      <td>2842.23</td>\n",
       "      <td>2037.64</td>\n",
       "      <td>481.98</td>\n",
       "      <td>323</td>\n",
       "      <td>602.7575</td>\n",
       "      <td>28.1997</td>\n",
       "      <td>26.6008</td>\n",
       "    </tr>\n",
       "    <tr>\n",
       "      <th>1</th>\n",
       "      <td>mc_ID_1</td>\n",
       "      <td>Single Female with three children, education: ...</td>\n",
       "      <td>S04ne_WA</td>\n",
       "      <td>Snack Foods from Snack Foods department, Order...</td>\n",
       "      <td>NaN</td>\n",
       "      <td>Budget Bargains</td>\n",
       "      <td>Supermarket</td>\n",
       "      <td>6.36 Millions</td>\n",
       "      <td>1.9716 Millions</td>\n",
       "      <td>non recyclable</td>\n",
       "      <td>50K+</td>\n",
       "      <td>2814.95</td>\n",
       "      <td>2049.72</td>\n",
       "      <td>457.36</td>\n",
       "      <td>NaN</td>\n",
       "      <td>708.6650</td>\n",
       "      <td>16.571</td>\n",
       "      <td>14.972</td>\n",
       "    </tr>\n",
       "  </tbody>\n",
       "</table>\n",
       "</div>"
      ],
      "text/plain": [
       "  Unnamed: 0                                 Person Description Place Code  \\\n",
       "0    mc_ID_0  Single Female with four children, education: b...   H11go_ZA   \n",
       "1    mc_ID_1  Single Female with three children, education: ...   S04ne_WA   \n",
       "\n",
       "                                      Customer Order  \\\n",
       "0  Cleaning Supplies from Household department, O...   \n",
       "1  Snack Foods from Snack Foods department, Order...   \n",
       "\n",
       "                       Additional Features in market   Promotion Name  \\\n",
       "0  ['Video Store', 'Florist', 'Ready Food', 'Coff...        Dimes Off   \n",
       "1                                                NaN  Budget Bargains   \n",
       "\n",
       "    Store Kind    Store Sales       Store Cost  Is Recyclable? Yearly Income  \\\n",
       "0       Deluxe  8.76 Millions  4.2924 Millions      recyclable          10K+   \n",
       "1  Supermarket  6.36 Millions  1.9716 Millions  non recyclable          50K+   \n",
       "\n",
       "  Store Area Grocery Area  Frozen Area Meat Area      Cost Gross Weight  \\\n",
       "0    2842.23      2037.64       481.98       323  602.7575      28.1997   \n",
       "1    2814.95      2049.72       457.36       NaN  708.6650       16.571   \n",
       "\n",
       "  Net Weight  \n",
       "0    26.6008  \n",
       "1     14.972  "
      ]
     },
     "execution_count": 14,
     "metadata": {},
     "output_type": "execute_result"
    }
   ],
   "source": [
    "train_1.head(2)"
   ]
  },
  {
   "cell_type": "markdown",
   "metadata": {},
   "source": [
    "## Train_2"
   ]
  },
  {
   "cell_type": "code",
   "execution_count": 15,
   "metadata": {},
   "outputs": [],
   "source": [
    "train_2.rename(columns={\"Min. Person Yearly Income\": \"Yearly Income\"}, inplace=True)"
   ]
  },
  {
   "cell_type": "markdown",
   "metadata": {},
   "source": [
    "## Train_3"
   ]
  },
  {
   "cell_type": "code",
   "execution_count": 16,
   "metadata": {},
   "outputs": [],
   "source": [
    "new_cols = {col: col.replace(\"%20\", \" \") for col in train_3.columns}\n",
    "train_3.rename(columns=new_cols, inplace=True)"
   ]
  },
  {
   "cell_type": "code",
   "execution_count": 17,
   "metadata": {},
   "outputs": [],
   "source": [
    "train_3.drop(\"Weights Data\", axis=1, inplace=True)"
   ]
  },
  {
   "cell_type": "code",
   "execution_count": 18,
   "metadata": {},
   "outputs": [
    {
     "data": {
      "text/html": [
       "<div>\n",
       "<style scoped>\n",
       "    .dataframe tbody tr th:only-of-type {\n",
       "        vertical-align: middle;\n",
       "    }\n",
       "\n",
       "    .dataframe tbody tr th {\n",
       "        vertical-align: top;\n",
       "    }\n",
       "\n",
       "    .dataframe thead th {\n",
       "        text-align: right;\n",
       "    }\n",
       "</style>\n",
       "<table border=\"1\" class=\"dataframe\">\n",
       "  <thead>\n",
       "    <tr style=\"text-align: right;\">\n",
       "      <th></th>\n",
       "      <th>Unnamed: 0</th>\n",
       "      <th>Person Description</th>\n",
       "      <th>Place Code</th>\n",
       "      <th>Customer Order</th>\n",
       "      <th>Additional Features in market</th>\n",
       "      <th>Promotion Name</th>\n",
       "      <th>Store Kind</th>\n",
       "      <th>Store Sales</th>\n",
       "      <th>Store Cost</th>\n",
       "      <th>Gross Weight</th>\n",
       "      <th>Net Weight</th>\n",
       "      <th>Is Recyclable?</th>\n",
       "      <th>Yearly Income</th>\n",
       "      <th>Store Area</th>\n",
       "      <th>Grocery Area</th>\n",
       "      <th>Frozen Area</th>\n",
       "      <th>Meat Area</th>\n",
       "      <th>Cost</th>\n",
       "    </tr>\n",
       "  </thead>\n",
       "  <tbody>\n",
       "    <tr>\n",
       "      <th>0</th>\n",
       "      <td>mc_ID_0</td>\n",
       "      <td>Single Female with two children, education: pa...</td>\n",
       "      <td>T02ma_WA</td>\n",
       "      <td>Meat from Deli department, Ordered Brand : Red...</td>\n",
       "      <td>['Coffee Bar', 'Florist', 'Ready Food', 'Bar F...</td>\n",
       "      <td>Sale : Double Down</td>\n",
       "      <td>Deluxe</td>\n",
       "      <td>7.12 Millions</td>\n",
       "      <td>2.5632 Millions</td>\n",
       "      <td>23.2575</td>\n",
       "      <td>20.3503</td>\n",
       "      <td>yes</td>\n",
       "      <td>90K+</td>\n",
       "      <td>3145.51</td>\n",
       "      <td>2056.79</td>\n",
       "      <td>654.13</td>\n",
       "      <td>436.09</td>\n",
       "      <td>500.7202</td>\n",
       "    </tr>\n",
       "    <tr>\n",
       "      <th>1</th>\n",
       "      <td>mc_ID_1</td>\n",
       "      <td>Single Female with five children, education: p...</td>\n",
       "      <td>M10da_YU</td>\n",
       "      <td>Specialty from Produce department, Ordered Bra...</td>\n",
       "      <td>['Coffee Bar', 'Florist', 'Bar For Salad', 'Vi...</td>\n",
       "      <td>GLD</td>\n",
       "      <td>Deluxe</td>\n",
       "      <td>14.72 Millions</td>\n",
       "      <td>7.0656 Millions</td>\n",
       "      <td>16.7163</td>\n",
       "      <td>12.3555</td>\n",
       "      <td>yes</td>\n",
       "      <td>30K+</td>\n",
       "      <td>2856.68</td>\n",
       "      <td>1871.16</td>\n",
       "      <td>595.93</td>\n",
       "      <td>395.51</td>\n",
       "      <td>484.1411</td>\n",
       "    </tr>\n",
       "  </tbody>\n",
       "</table>\n",
       "</div>"
      ],
      "text/plain": [
       "  Unnamed: 0                                 Person Description Place Code  \\\n",
       "0    mc_ID_0  Single Female with two children, education: pa...   T02ma_WA   \n",
       "1    mc_ID_1  Single Female with five children, education: p...   M10da_YU   \n",
       "\n",
       "                                      Customer Order  \\\n",
       "0  Meat from Deli department, Ordered Brand : Red...   \n",
       "1  Specialty from Produce department, Ordered Bra...   \n",
       "\n",
       "                       Additional Features in market      Promotion Name  \\\n",
       "0  ['Coffee Bar', 'Florist', 'Ready Food', 'Bar F...  Sale : Double Down   \n",
       "1  ['Coffee Bar', 'Florist', 'Bar For Salad', 'Vi...                 GLD   \n",
       "\n",
       "  Store Kind     Store Sales       Store Cost  Gross Weight  Net Weight  \\\n",
       "0     Deluxe   7.12 Millions  2.5632 Millions       23.2575     20.3503   \n",
       "1     Deluxe  14.72 Millions  7.0656 Millions       16.7163     12.3555   \n",
       "\n",
       "  Is Recyclable? Yearly Income  Store Area  Grocery Area  Frozen Area  \\\n",
       "0            yes          90K+     3145.51       2056.79       654.13   \n",
       "1            yes          30K+     2856.68       1871.16       595.93   \n",
       "\n",
       "   Meat Area      Cost  \n",
       "0     436.09  500.7202  \n",
       "1     395.51  484.1411  "
      ]
     },
     "execution_count": 18,
     "metadata": {},
     "output_type": "execute_result"
    }
   ],
   "source": [
    "train_3.head(2)"
   ]
  },
  {
   "cell_type": "code",
   "execution_count": 19,
   "metadata": {},
   "outputs": [],
   "source": [
    "data = pd.concat([train_1, train_2, train_3])\n",
    "data = data.reset_index(drop=True)"
   ]
  },
  {
   "cell_type": "code",
   "execution_count": 20,
   "metadata": {},
   "outputs": [
    {
     "data": {
      "text/html": [
       "<div>\n",
       "<style scoped>\n",
       "    .dataframe tbody tr th:only-of-type {\n",
       "        vertical-align: middle;\n",
       "    }\n",
       "\n",
       "    .dataframe tbody tr th {\n",
       "        vertical-align: top;\n",
       "    }\n",
       "\n",
       "    .dataframe thead th {\n",
       "        text-align: right;\n",
       "    }\n",
       "</style>\n",
       "<table border=\"1\" class=\"dataframe\">\n",
       "  <thead>\n",
       "    <tr style=\"text-align: right;\">\n",
       "      <th></th>\n",
       "      <th>Unnamed: 0</th>\n",
       "      <th>Person Description</th>\n",
       "      <th>Place Code</th>\n",
       "      <th>Customer Order</th>\n",
       "      <th>Additional Features in market</th>\n",
       "      <th>Promotion Name</th>\n",
       "      <th>Store Kind</th>\n",
       "      <th>Store Sales</th>\n",
       "      <th>Store Cost</th>\n",
       "      <th>Is Recyclable?</th>\n",
       "      <th>Yearly Income</th>\n",
       "      <th>Store Area</th>\n",
       "      <th>Grocery Area</th>\n",
       "      <th>Frozen Area</th>\n",
       "      <th>Meat Area</th>\n",
       "      <th>Cost</th>\n",
       "      <th>Gross Weight</th>\n",
       "      <th>Net Weight</th>\n",
       "    </tr>\n",
       "  </thead>\n",
       "  <tbody>\n",
       "    <tr>\n",
       "      <th>0</th>\n",
       "      <td>mc_ID_0</td>\n",
       "      <td>Single Female with four children, education: b...</td>\n",
       "      <td>H11go_ZA</td>\n",
       "      <td>Cleaning Supplies from Household department, O...</td>\n",
       "      <td>['Video Store', 'Florist', 'Ready Food', 'Coff...</td>\n",
       "      <td>Dimes Off</td>\n",
       "      <td>Deluxe</td>\n",
       "      <td>8.76 Millions</td>\n",
       "      <td>4.2924 Millions</td>\n",
       "      <td>recyclable</td>\n",
       "      <td>10K+</td>\n",
       "      <td>2842.23</td>\n",
       "      <td>2037.64</td>\n",
       "      <td>481.98</td>\n",
       "      <td>323</td>\n",
       "      <td>602.7575</td>\n",
       "      <td>28.1997</td>\n",
       "      <td>26.6008</td>\n",
       "    </tr>\n",
       "    <tr>\n",
       "      <th>1</th>\n",
       "      <td>mc_ID_1</td>\n",
       "      <td>Single Female with three children, education: ...</td>\n",
       "      <td>S04ne_WA</td>\n",
       "      <td>Snack Foods from Snack Foods department, Order...</td>\n",
       "      <td>NaN</td>\n",
       "      <td>Budget Bargains</td>\n",
       "      <td>Supermarket</td>\n",
       "      <td>6.36 Millions</td>\n",
       "      <td>1.9716 Millions</td>\n",
       "      <td>non recyclable</td>\n",
       "      <td>50K+</td>\n",
       "      <td>2814.95</td>\n",
       "      <td>2049.72</td>\n",
       "      <td>457.36</td>\n",
       "      <td>NaN</td>\n",
       "      <td>708.6650</td>\n",
       "      <td>16.571</td>\n",
       "      <td>14.972</td>\n",
       "    </tr>\n",
       "  </tbody>\n",
       "</table>\n",
       "</div>"
      ],
      "text/plain": [
       "  Unnamed: 0                                 Person Description Place Code  \\\n",
       "0    mc_ID_0  Single Female with four children, education: b...   H11go_ZA   \n",
       "1    mc_ID_1  Single Female with three children, education: ...   S04ne_WA   \n",
       "\n",
       "                                      Customer Order  \\\n",
       "0  Cleaning Supplies from Household department, O...   \n",
       "1  Snack Foods from Snack Foods department, Order...   \n",
       "\n",
       "                       Additional Features in market   Promotion Name  \\\n",
       "0  ['Video Store', 'Florist', 'Ready Food', 'Coff...        Dimes Off   \n",
       "1                                                NaN  Budget Bargains   \n",
       "\n",
       "    Store Kind    Store Sales       Store Cost  Is Recyclable? Yearly Income  \\\n",
       "0       Deluxe  8.76 Millions  4.2924 Millions      recyclable          10K+   \n",
       "1  Supermarket  6.36 Millions  1.9716 Millions  non recyclable          50K+   \n",
       "\n",
       "  Store Area Grocery Area Frozen Area Meat Area      Cost Gross Weight  \\\n",
       "0    2842.23      2037.64      481.98       323  602.7575      28.1997   \n",
       "1    2814.95      2049.72      457.36       NaN  708.6650       16.571   \n",
       "\n",
       "  Net Weight  \n",
       "0    26.6008  \n",
       "1     14.972  "
      ]
     },
     "execution_count": 20,
     "metadata": {},
     "output_type": "execute_result"
    }
   ],
   "source": [
    "data.head(2)"
   ]
  },
  {
   "cell_type": "code",
   "execution_count": 21,
   "metadata": {},
   "outputs": [
    {
     "name": "stdout",
     "output_type": "stream",
     "text": [
      "<class 'pandas.core.frame.DataFrame'>\n",
      "RangeIndex: 38862 entries, 0 to 38861\n",
      "Data columns (total 18 columns):\n",
      " #   Column                         Non-Null Count  Dtype  \n",
      "---  ------                         --------------  -----  \n",
      " 0   Unnamed: 0                     38862 non-null  object \n",
      " 1   Person Description             38862 non-null  object \n",
      " 2   Place Code                     38862 non-null  object \n",
      " 3   Customer Order                 38860 non-null  object \n",
      " 4   Additional Features in market  34562 non-null  object \n",
      " 5   Promotion Name                 33034 non-null  object \n",
      " 6   Store Kind                     33053 non-null  object \n",
      " 7   Store Sales                    38847 non-null  object \n",
      " 8   Store Cost                     38855 non-null  object \n",
      " 9   Is Recyclable?                 38860 non-null  object \n",
      " 10  Yearly Income                  38854 non-null  object \n",
      " 11  Store Area                     35297 non-null  object \n",
      " 12  Grocery Area                   35256 non-null  object \n",
      " 13  Frozen Area                    35310 non-null  object \n",
      " 14  Meat Area                      35313 non-null  object \n",
      " 15  Cost                           38831 non-null  float64\n",
      " 16  Gross Weight                   35945 non-null  object \n",
      " 17  Net Weight                     35969 non-null  object \n",
      "dtypes: float64(1), object(17)\n",
      "memory usage: 5.3+ MB\n"
     ]
    }
   ],
   "source": [
    "data.info()"
   ]
  },
  {
   "cell_type": "markdown",
   "metadata": {},
   "source": [
    "## Columns"
   ]
  },
  {
   "cell_type": "markdown",
   "metadata": {},
   "source": [
    "### Unnecessary Column"
   ]
  },
  {
   "cell_type": "code",
   "execution_count": 22,
   "metadata": {},
   "outputs": [
    {
     "data": {
      "text/plain": [
       "array(['mc_ID_0', 'mc_ID_1', 'mc_ID_2', ..., 'mc_ID_19429', 'mc_ID_19430',\n",
       "       'mc_ID_19431'], dtype=object)"
      ]
     },
     "execution_count": 22,
     "metadata": {},
     "output_type": "execute_result"
    }
   ],
   "source": [
    "data[\"Unnamed: 0\"].unique()"
   ]
  },
  {
   "cell_type": "code",
   "execution_count": 23,
   "metadata": {},
   "outputs": [],
   "source": [
    "def un_needed_col(dataset, columns):\n",
    "    data = dataset.copy()\n",
    "    data.drop(columns, axis=1, inplace=True)\n",
    "    return data"
   ]
  },
  {
   "cell_type": "code",
   "execution_count": 24,
   "metadata": {},
   "outputs": [],
   "source": [
    "data = un_needed_col(data, \"Unnamed: 0\")"
   ]
  },
  {
   "cell_type": "code",
   "execution_count": 25,
   "metadata": {},
   "outputs": [
    {
     "data": {
      "text/html": [
       "<div>\n",
       "<style scoped>\n",
       "    .dataframe tbody tr th:only-of-type {\n",
       "        vertical-align: middle;\n",
       "    }\n",
       "\n",
       "    .dataframe tbody tr th {\n",
       "        vertical-align: top;\n",
       "    }\n",
       "\n",
       "    .dataframe thead th {\n",
       "        text-align: right;\n",
       "    }\n",
       "</style>\n",
       "<table border=\"1\" class=\"dataframe\">\n",
       "  <thead>\n",
       "    <tr style=\"text-align: right;\">\n",
       "      <th></th>\n",
       "      <th>Person Description</th>\n",
       "      <th>Place Code</th>\n",
       "      <th>Customer Order</th>\n",
       "      <th>Additional Features in market</th>\n",
       "      <th>Promotion Name</th>\n",
       "      <th>Store Kind</th>\n",
       "      <th>Store Sales</th>\n",
       "      <th>Store Cost</th>\n",
       "      <th>Is Recyclable?</th>\n",
       "      <th>Yearly Income</th>\n",
       "      <th>Store Area</th>\n",
       "      <th>Grocery Area</th>\n",
       "      <th>Frozen Area</th>\n",
       "      <th>Meat Area</th>\n",
       "      <th>Cost</th>\n",
       "      <th>Gross Weight</th>\n",
       "      <th>Net Weight</th>\n",
       "    </tr>\n",
       "  </thead>\n",
       "  <tbody>\n",
       "    <tr>\n",
       "      <th>0</th>\n",
       "      <td>Single Female with four children, education: b...</td>\n",
       "      <td>H11go_ZA</td>\n",
       "      <td>Cleaning Supplies from Household department, O...</td>\n",
       "      <td>['Video Store', 'Florist', 'Ready Food', 'Coff...</td>\n",
       "      <td>Dimes Off</td>\n",
       "      <td>Deluxe</td>\n",
       "      <td>8.76 Millions</td>\n",
       "      <td>4.2924 Millions</td>\n",
       "      <td>recyclable</td>\n",
       "      <td>10K+</td>\n",
       "      <td>2842.23</td>\n",
       "      <td>2037.64</td>\n",
       "      <td>481.98</td>\n",
       "      <td>323</td>\n",
       "      <td>602.7575</td>\n",
       "      <td>28.1997</td>\n",
       "      <td>26.6008</td>\n",
       "    </tr>\n",
       "    <tr>\n",
       "      <th>1</th>\n",
       "      <td>Single Female with three children, education: ...</td>\n",
       "      <td>S04ne_WA</td>\n",
       "      <td>Snack Foods from Snack Foods department, Order...</td>\n",
       "      <td>NaN</td>\n",
       "      <td>Budget Bargains</td>\n",
       "      <td>Supermarket</td>\n",
       "      <td>6.36 Millions</td>\n",
       "      <td>1.9716 Millions</td>\n",
       "      <td>non recyclable</td>\n",
       "      <td>50K+</td>\n",
       "      <td>2814.95</td>\n",
       "      <td>2049.72</td>\n",
       "      <td>457.36</td>\n",
       "      <td>NaN</td>\n",
       "      <td>708.6650</td>\n",
       "      <td>16.571</td>\n",
       "      <td>14.972</td>\n",
       "    </tr>\n",
       "    <tr>\n",
       "      <th>2</th>\n",
       "      <td>Married Male with two children, education: hig...</td>\n",
       "      <td>L05es_CA</td>\n",
       "      <td>Magazines from Periodicals department, Ordered...</td>\n",
       "      <td>['Florist']</td>\n",
       "      <td>Shelf Emptiers</td>\n",
       "      <td>Supermarket</td>\n",
       "      <td>10.86 Millions</td>\n",
       "      <td>4.4526 Millions</td>\n",
       "      <td>recyclable</td>\n",
       "      <td>30K+</td>\n",
       "      <td>2192.32</td>\n",
       "      <td>1322.21</td>\n",
       "      <td>523.32</td>\n",
       "      <td>348.85</td>\n",
       "      <td>564.2647</td>\n",
       "      <td>28.6358</td>\n",
       "      <td>27.1822</td>\n",
       "    </tr>\n",
       "  </tbody>\n",
       "</table>\n",
       "</div>"
      ],
      "text/plain": [
       "                                  Person Description Place Code  \\\n",
       "0  Single Female with four children, education: b...   H11go_ZA   \n",
       "1  Single Female with three children, education: ...   S04ne_WA   \n",
       "2  Married Male with two children, education: hig...   L05es_CA   \n",
       "\n",
       "                                      Customer Order  \\\n",
       "0  Cleaning Supplies from Household department, O...   \n",
       "1  Snack Foods from Snack Foods department, Order...   \n",
       "2  Magazines from Periodicals department, Ordered...   \n",
       "\n",
       "                       Additional Features in market   Promotion Name  \\\n",
       "0  ['Video Store', 'Florist', 'Ready Food', 'Coff...        Dimes Off   \n",
       "1                                                NaN  Budget Bargains   \n",
       "2                                        ['Florist']   Shelf Emptiers   \n",
       "\n",
       "    Store Kind     Store Sales       Store Cost  Is Recyclable? Yearly Income  \\\n",
       "0       Deluxe   8.76 Millions  4.2924 Millions      recyclable          10K+   \n",
       "1  Supermarket   6.36 Millions  1.9716 Millions  non recyclable          50K+   \n",
       "2  Supermarket  10.86 Millions  4.4526 Millions      recyclable          30K+   \n",
       "\n",
       "  Store Area Grocery Area Frozen Area Meat Area      Cost Gross Weight  \\\n",
       "0    2842.23      2037.64      481.98       323  602.7575      28.1997   \n",
       "1    2814.95      2049.72      457.36       NaN  708.6650       16.571   \n",
       "2    2192.32      1322.21      523.32    348.85  564.2647      28.6358   \n",
       "\n",
       "  Net Weight  \n",
       "0    26.6008  \n",
       "1     14.972  \n",
       "2    27.1822  "
      ]
     },
     "execution_count": 25,
     "metadata": {},
     "output_type": "execute_result"
    }
   ],
   "source": [
    "data.head(3)"
   ]
  },
  {
   "cell_type": "markdown",
   "metadata": {},
   "source": [
    "### Categorical Columns"
   ]
  },
  {
   "cell_type": "code",
   "execution_count": 26,
   "metadata": {},
   "outputs": [
    {
     "data": {
      "text/plain": [
       "Index(['Cost'], dtype='object')"
      ]
     },
     "execution_count": 26,
     "metadata": {},
     "output_type": "execute_result"
    }
   ],
   "source": [
    "categorical_columns = data.select_dtypes([\"int\", \"float\"]).columns\n",
    "categorical_columns"
   ]
  },
  {
   "cell_type": "markdown",
   "metadata": {},
   "source": [
    "#### Categorical Columns that suppose to be numerical "
   ]
  },
  {
   "cell_type": "code",
   "execution_count": 27,
   "metadata": {},
   "outputs": [
    {
     "data": {
      "text/html": [
       "<div>\n",
       "<style scoped>\n",
       "    .dataframe tbody tr th:only-of-type {\n",
       "        vertical-align: middle;\n",
       "    }\n",
       "\n",
       "    .dataframe tbody tr th {\n",
       "        vertical-align: top;\n",
       "    }\n",
       "\n",
       "    .dataframe thead th {\n",
       "        text-align: right;\n",
       "    }\n",
       "</style>\n",
       "<table border=\"1\" class=\"dataframe\">\n",
       "  <thead>\n",
       "    <tr style=\"text-align: right;\">\n",
       "      <th></th>\n",
       "      <th>Person Description</th>\n",
       "      <th>Place Code</th>\n",
       "      <th>Customer Order</th>\n",
       "      <th>Additional Features in market</th>\n",
       "      <th>Promotion Name</th>\n",
       "      <th>Store Kind</th>\n",
       "      <th>Store Sales</th>\n",
       "      <th>Store Cost</th>\n",
       "      <th>Is Recyclable?</th>\n",
       "      <th>Yearly Income</th>\n",
       "      <th>Store Area</th>\n",
       "      <th>Grocery Area</th>\n",
       "      <th>Frozen Area</th>\n",
       "      <th>Meat Area</th>\n",
       "      <th>Cost</th>\n",
       "      <th>Gross Weight</th>\n",
       "      <th>Net Weight</th>\n",
       "    </tr>\n",
       "  </thead>\n",
       "  <tbody>\n",
       "    <tr>\n",
       "      <th>0</th>\n",
       "      <td>Single Female with four children, education: b...</td>\n",
       "      <td>H11go_ZA</td>\n",
       "      <td>Cleaning Supplies from Household department, O...</td>\n",
       "      <td>['Video Store', 'Florist', 'Ready Food', 'Coff...</td>\n",
       "      <td>Dimes Off</td>\n",
       "      <td>Deluxe</td>\n",
       "      <td>8.76 Millions</td>\n",
       "      <td>4.2924 Millions</td>\n",
       "      <td>recyclable</td>\n",
       "      <td>10K+</td>\n",
       "      <td>2842.23</td>\n",
       "      <td>2037.64</td>\n",
       "      <td>481.98</td>\n",
       "      <td>323</td>\n",
       "      <td>602.7575</td>\n",
       "      <td>28.1997</td>\n",
       "      <td>26.6008</td>\n",
       "    </tr>\n",
       "  </tbody>\n",
       "</table>\n",
       "</div>"
      ],
      "text/plain": [
       "                                  Person Description Place Code  \\\n",
       "0  Single Female with four children, education: b...   H11go_ZA   \n",
       "\n",
       "                                      Customer Order  \\\n",
       "0  Cleaning Supplies from Household department, O...   \n",
       "\n",
       "                       Additional Features in market Promotion Name  \\\n",
       "0  ['Video Store', 'Florist', 'Ready Food', 'Coff...      Dimes Off   \n",
       "\n",
       "  Store Kind    Store Sales       Store Cost Is Recyclable? Yearly Income  \\\n",
       "0     Deluxe  8.76 Millions  4.2924 Millions     recyclable          10K+   \n",
       "\n",
       "  Store Area Grocery Area Frozen Area Meat Area      Cost Gross Weight  \\\n",
       "0    2842.23      2037.64      481.98       323  602.7575      28.1997   \n",
       "\n",
       "  Net Weight  \n",
       "0    26.6008  "
      ]
     },
     "execution_count": 27,
     "metadata": {},
     "output_type": "execute_result"
    }
   ],
   "source": [
    "data.head(1)"
   ]
  },
  {
   "cell_type": "code",
   "execution_count": 28,
   "metadata": {},
   "outputs": [],
   "source": [
    "def convert_str_num(dataset, columns):\n",
    "    data = dataset.copy()\n",
    "    for col in columns:\n",
    "        # Using regex with .replace() to strip non-digit characters and preserve decimal points\n",
    "        data[col] = data[col].replace(r\"[^0-9.]+\", \"\", regex=True)\n",
    "\n",
    "        # Convert empty strings to NaN\n",
    "        data[col] = data[col].replace(\"\", np.nan)\n",
    "\n",
    "        # Convert cleaned strings to float\n",
    "        data[col] = pd.to_numeric(data[col], errors=\"coerce\", downcast=\"float\")\n",
    "\n",
    "        if col == \"Yearly Income\":\n",
    "            data[col] = data[col] * 1000\n",
    "        if col == \"Store Sales\" or col == \"Store Cost\":\n",
    "            data[col] = data[col] * 1000_000\n",
    "\n",
    "    return data\n",
    "\n",
    "\n",
    "cols = [\n",
    "    \"Store Area\",\n",
    "    \"Grocery Area\",\n",
    "    \"Frozen Area\",\n",
    "    \"Meat Area\",\n",
    "    \"Gross Weight\",\n",
    "    \"Net Weight\",\n",
    "    \"Store Sales\",\n",
    "    \"Store Cost\",\n",
    "    \"Yearly Income\",\n",
    "]\n",
    "\n",
    "\n",
    "data = convert_str_num(data, cols)"
   ]
  },
  {
   "cell_type": "code",
   "execution_count": 29,
   "metadata": {},
   "outputs": [
    {
     "data": {
      "text/html": [
       "<div>\n",
       "<style scoped>\n",
       "    .dataframe tbody tr th:only-of-type {\n",
       "        vertical-align: middle;\n",
       "    }\n",
       "\n",
       "    .dataframe tbody tr th {\n",
       "        vertical-align: top;\n",
       "    }\n",
       "\n",
       "    .dataframe thead th {\n",
       "        text-align: right;\n",
       "    }\n",
       "</style>\n",
       "<table border=\"1\" class=\"dataframe\">\n",
       "  <thead>\n",
       "    <tr style=\"text-align: right;\">\n",
       "      <th></th>\n",
       "      <th>Person Description</th>\n",
       "      <th>Place Code</th>\n",
       "      <th>Customer Order</th>\n",
       "      <th>Additional Features in market</th>\n",
       "      <th>Promotion Name</th>\n",
       "      <th>Store Kind</th>\n",
       "      <th>Store Sales</th>\n",
       "      <th>Store Cost</th>\n",
       "      <th>Is Recyclable?</th>\n",
       "      <th>Yearly Income</th>\n",
       "      <th>Store Area</th>\n",
       "      <th>Grocery Area</th>\n",
       "      <th>Frozen Area</th>\n",
       "      <th>Meat Area</th>\n",
       "      <th>Cost</th>\n",
       "      <th>Gross Weight</th>\n",
       "      <th>Net Weight</th>\n",
       "    </tr>\n",
       "  </thead>\n",
       "  <tbody>\n",
       "    <tr>\n",
       "      <th>0</th>\n",
       "      <td>Single Female with four children, education: b...</td>\n",
       "      <td>H11go_ZA</td>\n",
       "      <td>Cleaning Supplies from Household department, O...</td>\n",
       "      <td>['Video Store', 'Florist', 'Ready Food', 'Coff...</td>\n",
       "      <td>Dimes Off</td>\n",
       "      <td>Deluxe</td>\n",
       "      <td>8.760000e+06</td>\n",
       "      <td>4.292400e+06</td>\n",
       "      <td>recyclable</td>\n",
       "      <td>10000.0</td>\n",
       "      <td>2842.22998</td>\n",
       "      <td>2037.640015</td>\n",
       "      <td>481.980011</td>\n",
       "      <td>323.0</td>\n",
       "      <td>602.7575</td>\n",
       "      <td>28.199699</td>\n",
       "      <td>26.6008</td>\n",
       "    </tr>\n",
       "  </tbody>\n",
       "</table>\n",
       "</div>"
      ],
      "text/plain": [
       "                                  Person Description Place Code  \\\n",
       "0  Single Female with four children, education: b...   H11go_ZA   \n",
       "\n",
       "                                      Customer Order  \\\n",
       "0  Cleaning Supplies from Household department, O...   \n",
       "\n",
       "                       Additional Features in market Promotion Name  \\\n",
       "0  ['Video Store', 'Florist', 'Ready Food', 'Coff...      Dimes Off   \n",
       "\n",
       "  Store Kind   Store Sales    Store Cost Is Recyclable?  Yearly Income  \\\n",
       "0     Deluxe  8.760000e+06  4.292400e+06     recyclable        10000.0   \n",
       "\n",
       "   Store Area  Grocery Area  Frozen Area  Meat Area      Cost  Gross Weight  \\\n",
       "0  2842.22998   2037.640015   481.980011      323.0  602.7575     28.199699   \n",
       "\n",
       "   Net Weight  \n",
       "0     26.6008  "
      ]
     },
     "execution_count": 29,
     "metadata": {},
     "output_type": "execute_result"
    }
   ],
   "source": [
    "data.head(1)"
   ]
  },
  {
   "cell_type": "code",
   "execution_count": 30,
   "metadata": {},
   "outputs": [
    {
     "name": "stdout",
     "output_type": "stream",
     "text": [
      "<class 'pandas.core.frame.DataFrame'>\n",
      "RangeIndex: 38862 entries, 0 to 38861\n",
      "Data columns (total 17 columns):\n",
      " #   Column                         Non-Null Count  Dtype  \n",
      "---  ------                         --------------  -----  \n",
      " 0   Person Description             38862 non-null  object \n",
      " 1   Place Code                     38862 non-null  object \n",
      " 2   Customer Order                 38860 non-null  object \n",
      " 3   Additional Features in market  34562 non-null  object \n",
      " 4   Promotion Name                 33034 non-null  object \n",
      " 5   Store Kind                     33053 non-null  object \n",
      " 6   Store Sales                    38847 non-null  float64\n",
      " 7   Store Cost                     38855 non-null  float64\n",
      " 8   Is Recyclable?                 38860 non-null  object \n",
      " 9   Yearly Income                  38854 non-null  float32\n",
      " 10  Store Area                     35296 non-null  float32\n",
      " 11  Grocery Area                   35255 non-null  float32\n",
      " 12  Frozen Area                    35308 non-null  float32\n",
      " 13  Meat Area                      35313 non-null  float32\n",
      " 14  Cost                           38831 non-null  float64\n",
      " 15  Gross Weight                   35945 non-null  float32\n",
      " 16  Net Weight                     35969 non-null  float32\n",
      "dtypes: float32(7), float64(3), object(7)\n",
      "memory usage: 4.0+ MB\n"
     ]
    }
   ],
   "source": [
    "data.info()"
   ]
  },
  {
   "cell_type": "markdown",
   "metadata": {},
   "source": [
    "#### Actual Categorical Columns\n",
    "- Person Description             \n",
    "- Place Code                     \n",
    "- Customer Order                 \n",
    "- Additional Features in market  \n",
    "- Promotion Name                 \n",
    "- Store Kind                     \n",
    "- Is Recyclable?                 "
   ]
  },
  {
   "cell_type": "markdown",
   "metadata": {},
   "source": [
    "### Person Description\n",
    "- `Person Description` - Description of the person visiting the market"
   ]
  },
  {
   "cell_type": "code",
   "execution_count": 31,
   "metadata": {},
   "outputs": [],
   "source": [
    "def extract_values(dataset):\n",
    "    data = dataset.copy()\n",
    "\n",
    "    # Define lambda function to extract values\n",
    "    extract_values = lambda x: {\n",
    "        \"Status\": x.split(\" \")[0],\n",
    "        \"Sex\": x.split(\" \")[1],\n",
    "        \"Children\": x.split(\" \")[3],\n",
    "        \"Education\": x.split(\" \")[6],\n",
    "        \"Job\": x.split(\" \")[-1],\n",
    "    }\n",
    "\n",
    "    # Apply the lambda function to create new columns\n",
    "    data[[\"Status\", \"Sex\", \"Children\", \"Education\", \"Job\"]] = (\n",
    "        data[\"Person Description\"].apply(extract_values).apply(pd.Series)\n",
    "    )\n",
    "\n",
    "    # Drop the original 'Person Description' column\n",
    "    data.drop(\"Person Description\", axis=1, inplace=True)\n",
    "\n",
    "    return data"
   ]
  },
  {
   "cell_type": "code",
   "execution_count": 32,
   "metadata": {},
   "outputs": [],
   "source": [
    "data = extract_values(data)"
   ]
  },
  {
   "cell_type": "markdown",
   "metadata": {},
   "source": [
    "### Place Code\n",
    "- `Place Code` - Code for each place which consists of 2 city codes parts separated by \"_\""
   ]
  },
  {
   "cell_type": "code",
   "execution_count": 33,
   "metadata": {},
   "outputs": [
    {
     "data": {
      "text/plain": [
       "array(['H11go_ZA', 'S04ne_WA', 'L05es_CA', 'S03le_WA', 'M10da_YU',\n",
       "       'A17co_GU', 'O09ba_VE', 'S01em_OR', 'P07nd_OR', 'B06ls_CA',\n",
       "       'T02ma_WA', 'V19ia_BC', 'G16ra_JA', 'B14on_WA', 'C15ho_ZA',\n",
       "       'V13er_BC', 'M12ty_DF', 'B08am_WA', 'S18co_CA'], dtype=object)"
      ]
     },
     "execution_count": 33,
     "metadata": {},
     "output_type": "execute_result"
    }
   ],
   "source": [
    "data[\"Place Code\"].unique()"
   ]
  },
  {
   "cell_type": "markdown",
   "metadata": {},
   "source": [
    "### Customer Order\n",
    " `Customer Order` - Order of each customer in the market"
   ]
  },
  {
   "cell_type": "code",
   "execution_count": 45,
   "metadata": {},
   "outputs": [],
   "source": [
    "order = [\n",
    "    value.split(\"from\")[0] if type(value) == str else np.nan\n",
    "    for value in data[\"Customer Order\"]\n",
    "]\n",
    "department = [\n",
    "    value.split(\"department\")[0].split(\"from\")[1] if type(value) == str else np.nan\n",
    "    for value in data[\"Customer Order\"]\n",
    "]\n",
    "brand = [\n",
    "    value.split(\":\")[1] if type(value) == str else np.nan\n",
    "    for value in data[\"Customer Order\"]\n",
    "]"
   ]
  },
  {
   "cell_type": "code",
   "execution_count": 57,
   "metadata": {},
   "outputs": [],
   "source": [
    "data = pd.concat(\n",
    "    [data, pd.DataFrame({\"Order\": order, \"Department\": department, \"Brand \": brand})],\n",
    "    axis=1\n",
    ")"
   ]
  },
  {
   "cell_type": "code",
   "execution_count": 60,
   "metadata": {},
   "outputs": [],
   "source": [
    "data.drop('Customer Order', axis=1, inplace=True)"
   ]
  },
  {
   "cell_type": "code",
   "execution_count": 61,
   "metadata": {},
   "outputs": [
    {
     "data": {
      "text/html": [
       "<div>\n",
       "<style scoped>\n",
       "    .dataframe tbody tr th:only-of-type {\n",
       "        vertical-align: middle;\n",
       "    }\n",
       "\n",
       "    .dataframe tbody tr th {\n",
       "        vertical-align: top;\n",
       "    }\n",
       "\n",
       "    .dataframe thead th {\n",
       "        text-align: right;\n",
       "    }\n",
       "</style>\n",
       "<table border=\"1\" class=\"dataframe\">\n",
       "  <thead>\n",
       "    <tr style=\"text-align: right;\">\n",
       "      <th></th>\n",
       "      <th>Place Code</th>\n",
       "      <th>Additional Features in market</th>\n",
       "      <th>Promotion Name</th>\n",
       "      <th>Store Kind</th>\n",
       "      <th>Store Sales</th>\n",
       "      <th>Store Cost</th>\n",
       "      <th>Is Recyclable?</th>\n",
       "      <th>Yearly Income</th>\n",
       "      <th>Store Area</th>\n",
       "      <th>Grocery Area</th>\n",
       "      <th>...</th>\n",
       "      <th>Gross Weight</th>\n",
       "      <th>Net Weight</th>\n",
       "      <th>Status</th>\n",
       "      <th>Sex</th>\n",
       "      <th>Children</th>\n",
       "      <th>Education</th>\n",
       "      <th>Job</th>\n",
       "      <th>Order</th>\n",
       "      <th>Department</th>\n",
       "      <th>Brand</th>\n",
       "    </tr>\n",
       "  </thead>\n",
       "  <tbody>\n",
       "    <tr>\n",
       "      <th>0</th>\n",
       "      <td>H11go_ZA</td>\n",
       "      <td>['Video Store', 'Florist', 'Ready Food', 'Coff...</td>\n",
       "      <td>Dimes Off</td>\n",
       "      <td>Deluxe</td>\n",
       "      <td>8.760000e+06</td>\n",
       "      <td>4.292400e+06</td>\n",
       "      <td>recyclable</td>\n",
       "      <td>10000.0</td>\n",
       "      <td>2842.229980</td>\n",
       "      <td>2037.640015</td>\n",
       "      <td>...</td>\n",
       "      <td>28.199699</td>\n",
       "      <td>26.6008</td>\n",
       "      <td>Single</td>\n",
       "      <td>Female</td>\n",
       "      <td>four</td>\n",
       "      <td>bachelors</td>\n",
       "      <td>professional</td>\n",
       "      <td>Cleaning Supplies</td>\n",
       "      <td>Household</td>\n",
       "      <td>Red Wing</td>\n",
       "    </tr>\n",
       "    <tr>\n",
       "      <th>1</th>\n",
       "      <td>S04ne_WA</td>\n",
       "      <td>NaN</td>\n",
       "      <td>Budget Bargains</td>\n",
       "      <td>Supermarket</td>\n",
       "      <td>6.360000e+06</td>\n",
       "      <td>1.971600e+06</td>\n",
       "      <td>non recyclable</td>\n",
       "      <td>50000.0</td>\n",
       "      <td>2814.949951</td>\n",
       "      <td>2049.719971</td>\n",
       "      <td>...</td>\n",
       "      <td>16.570999</td>\n",
       "      <td>14.9720</td>\n",
       "      <td>Single</td>\n",
       "      <td>Female</td>\n",
       "      <td>three</td>\n",
       "      <td>bachelors</td>\n",
       "      <td>management</td>\n",
       "      <td>Snack Foods</td>\n",
       "      <td>Snack Foods</td>\n",
       "      <td>Nationeel</td>\n",
       "    </tr>\n",
       "  </tbody>\n",
       "</table>\n",
       "<p>2 rows × 23 columns</p>\n",
       "</div>"
      ],
      "text/plain": [
       "  Place Code                      Additional Features in market  \\\n",
       "0   H11go_ZA  ['Video Store', 'Florist', 'Ready Food', 'Coff...   \n",
       "1   S04ne_WA                                                NaN   \n",
       "\n",
       "    Promotion Name   Store Kind   Store Sales    Store Cost  Is Recyclable?  \\\n",
       "0        Dimes Off       Deluxe  8.760000e+06  4.292400e+06      recyclable   \n",
       "1  Budget Bargains  Supermarket  6.360000e+06  1.971600e+06  non recyclable   \n",
       "\n",
       "   Yearly Income   Store Area  Grocery Area  ...  Gross Weight  Net Weight  \\\n",
       "0        10000.0  2842.229980   2037.640015  ...     28.199699     26.6008   \n",
       "1        50000.0  2814.949951   2049.719971  ...     16.570999     14.9720   \n",
       "\n",
       "   Status     Sex  Children  Education           Job               Order  \\\n",
       "0  Single  Female      four  bachelors  professional  Cleaning Supplies    \n",
       "1  Single  Female     three  bachelors    management        Snack Foods    \n",
       "\n",
       "      Department      Brand   \n",
       "0     Household     Red Wing  \n",
       "1   Snack Foods    Nationeel  \n",
       "\n",
       "[2 rows x 23 columns]"
      ]
     },
     "execution_count": 61,
     "metadata": {},
     "output_type": "execute_result"
    }
   ],
   "source": [
    "data.head(2)"
   ]
  },
  {
   "cell_type": "markdown",
   "metadata": {},
   "source": [
    "### Additional Features in market\n",
    "`Additional Features in market` A list of features that are found in the market"
   ]
  },
  {
   "cell_type": "code",
   "execution_count": 68,
   "metadata": {},
   "outputs": [
    {
     "data": {
      "text/plain": [
       "0        ['Video Store', 'Florist', 'Ready Food', 'Coff...\n",
       "1                                                      NaN\n",
       "2                                              ['Florist']\n",
       "3                                           ['Coffee Bar']\n",
       "4        ['Bar For Salad', 'Ready Food', 'Coffee Bar', ...\n",
       "                               ...                        \n",
       "38857    ['Florist', 'Coffee Bar', 'Bar For Salad', 'Re...\n",
       "38858    ['Ready Food', 'Bar For Salad', 'Coffee Bar', ...\n",
       "38859                                       ['Coffee Bar']\n",
       "38860                                       ['Coffee Bar']\n",
       "38861    ['Video Store', 'Bar For Salad', 'Coffee Bar',...\n",
       "Name: Additional Features in market, Length: 38862, dtype: object"
      ]
     },
     "execution_count": 68,
     "metadata": {},
     "output_type": "execute_result"
    }
   ],
   "source": [
    "data['Additional Features in market']"
   ]
  },
  {
   "cell_type": "markdown",
   "metadata": {},
   "source": [
    "### Promotion Name\n",
    "`Promotion Name` - Made by the market on media\n"
   ]
  },
  {
   "cell_type": "code",
   "execution_count": 69,
   "metadata": {},
   "outputs": [
    {
     "data": {
      "text/plain": [
       "0                Dimes Off\n",
       "1          Budget Bargains\n",
       "2           Shelf Emptiers\n",
       "3           Savings Galore\n",
       "4             Sale Winners\n",
       "               ...        \n",
       "38857       Shelf Emptiers\n",
       "38858      Discount Frenzy\n",
       "38859                  NaN\n",
       "38860    Best Price Savers\n",
       "38861       Sale Sale Sale\n",
       "Name: Promotion Name, Length: 38862, dtype: object"
      ]
     },
     "execution_count": 69,
     "metadata": {},
     "output_type": "execute_result"
    }
   ],
   "source": [
    "data['Promotion Name']"
   ]
  },
  {
   "cell_type": "markdown",
   "metadata": {},
   "source": [
    "### Store Kind\n",
    "- `Store Kind` - A genre for the store\n"
   ]
  },
  {
   "cell_type": "code",
   "execution_count": 71,
   "metadata": {},
   "outputs": [
    {
     "data": {
      "text/plain": [
       "array(['Deluxe', 'Supermarket', nan, 'Gourmet', 'Mid-Size',\n",
       "       'Small Grocery'], dtype=object)"
      ]
     },
     "execution_count": 71,
     "metadata": {},
     "output_type": "execute_result"
    }
   ],
   "source": [
    "data['Store Kind'].unique()"
   ]
  },
  {
   "cell_type": "markdown",
   "metadata": {},
   "source": [
    "### Is Recyclable?\n",
    "`Is Recyclable?` - If the item is Recyclable or no\n"
   ]
  },
  {
   "cell_type": "code",
   "execution_count": 73,
   "metadata": {},
   "outputs": [
    {
     "data": {
      "text/plain": [
       "array(['recyclable', 'non recyclable', 'yes', 'no', nan], dtype=object)"
      ]
     },
     "execution_count": 73,
     "metadata": {},
     "output_type": "execute_result"
    }
   ],
   "source": [
    "data['Is Recyclable?'].unique()"
   ]
  },
  {
   "cell_type": "code",
   "execution_count": null,
   "metadata": {},
   "outputs": [],
   "source": []
  }
 ],
 "metadata": {
  "kernelspec": {
   "display_name": "base",
   "language": "python",
   "name": "python3"
  },
  "language_info": {
   "codemirror_mode": {
    "name": "ipython",
    "version": 3
   },
   "file_extension": ".py",
   "mimetype": "text/x-python",
   "name": "python",
   "nbconvert_exporter": "python",
   "pygments_lexer": "ipython3",
   "version": "3.11.4"
  },
  "orig_nbformat": 4
 },
 "nbformat": 4,
 "nbformat_minor": 2
}
